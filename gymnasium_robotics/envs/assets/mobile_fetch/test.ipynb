{
 "cells": [
  {
   "cell_type": "code",
   "execution_count": 10,
   "metadata": {},
   "outputs": [],
   "source": [
    "import mujoco\n",
    "import mediapy as media\n"
   ]
  },
  {
   "cell_type": "code",
   "execution_count": 12,
   "metadata": {},
   "outputs": [],
   "source": [
    "# load xml form file\n",
    "\n",
    "slide_xml = 'slide.xml'\n",
    "mobile_slide_xml = 'mobile_slide.xml'\n",
    "\n",
    "slide_model = mujoco.MjModel.from_xml_path(robot_xml)\n",
    "mobile_slide_model = mujoco.MjModel.from_xml_path(mobile_slide_xml)"
   ]
  },
  {
   "cell_type": "code",
   "execution_count": 13,
   "metadata": {},
   "outputs": [
    {
     "name": "stdout",
     "output_type": "stream",
     "text": [
      "24\n",
      "24\n"
     ]
    }
   ],
   "source": [
    "print(slide_model.ngeom)\n",
    "print(mobile_slide_model.ngeom)"
   ]
  },
  {
   "cell_type": "code",
   "execution_count": 14,
   "metadata": {},
   "outputs": [
    {
     "name": "stdout",
     "output_type": "stream",
     "text": [
      "[[0. 0. 0. 0.]\n",
      " [0. 0. 0. 0.]\n",
      " [0. 0. 0. 0.]\n",
      " [0. 0. 0. 0.]\n",
      " [0. 0. 0. 0.]\n",
      " [0. 0. 0. 0.]\n",
      " [0. 0. 0. 0.]\n",
      " [0. 0. 0. 0.]\n",
      " [0. 0. 0. 0.]\n",
      " [0. 0. 0. 0.]\n",
      " [0. 0. 0. 0.]\n",
      " [0. 0. 0. 0.]\n",
      " [0. 0. 0. 0.]\n",
      " [0. 0. 0. 0.]\n",
      " [0. 0. 0. 0.]\n",
      " [0. 0. 0. 0.]\n",
      " [0. 0. 0. 0.]\n",
      " [0. 0. 0. 0.]\n",
      " [0. 0. 0. 0.]\n",
      " [0. 0. 0. 0.]\n",
      " [0. 0. 0. 0.]\n",
      " [0. 0. 0. 0.]\n",
      " [0. 0. 0. 0.]\n",
      " [0. 0. 0. 0.]]\n"
     ]
    }
   ],
   "source": [
    "print(slide_model.geom_rgba - mobile_slide_model.geom_rgba)\n"
   ]
  },
  {
   "cell_type": "code",
   "execution_count": 20,
   "metadata": {},
   "outputs": [
    {
     "data": {
      "text/html": [
       "<table class=\"show_images\" style=\"border-spacing:0px;\"><tr><td style=\"padding:1px;\"><img width=\"320\" height=\"240\" style=\"image-rendering:auto; object-fit:cover;\" src=\"data:image/png;base64,iVBORw0KGgoAAAANSUhEUgAAAUAAAADwCAIAAAD+Tyo8AAAA9UlEQVR4nO3BAQEAAACCIP+vbkhAAQAAAAAAAAAAAAAAAAAAAAAAAAAAAAAAAAAAAAAAAAAAAAAAAAAAAAAAAAAAAAAAAAAAAAAAAAAAAAAAAAAAAAAAAAAAAAAAAAAAAAAAAAAAAAAAAAAAAAAAAAAAAAAAAAAAAAAAAAAAAAAAAAAAAAAAAAAAAAAAAAAAAAAAAAAAAAAAAAAAAAAAAAAAAAAAAAAAAAAAAAAAAAAAAAAAAAAAAAAAAAAAAAAAAAAAAAAAAAAAAAAAAAAAAAAAAAAAAAAAAAAAAAAAAAAAAAAAAAAAAAAAAAAAAAAAAAAAAPBohR0AAXbPpmUAAAAASUVORK5CYII=\"/></td></tr></table>"
      ],
      "text/plain": [
       "<IPython.core.display.HTML object>"
      ]
     },
     "metadata": {},
     "output_type": "display_data"
    },
    {
     "data": {
      "text/html": [
       "<table class=\"show_images\" style=\"border-spacing:0px;\"><tr><td style=\"padding:1px;\"><img width=\"320\" height=\"240\" style=\"image-rendering:auto; object-fit:cover;\" src=\"data:image/png;base64,iVBORw0KGgoAAAANSUhEUgAAAUAAAADwCAIAAAD+Tyo8AAAA9UlEQVR4nO3BAQEAAACCIP+vbkhAAQAAAAAAAAAAAAAAAAAAAAAAAAAAAAAAAAAAAAAAAAAAAAAAAAAAAAAAAAAAAAAAAAAAAAAAAAAAAAAAAAAAAAAAAAAAAAAAAAAAAAAAAAAAAAAAAAAAAAAAAAAAAAAAAAAAAAAAAAAAAAAAAAAAAAAAAAAAAAAAAAAAAAAAAAAAAAAAAAAAAAAAAAAAAAAAAAAAAAAAAAAAAAAAAAAAAAAAAAAAAAAAAAAAAAAAAAAAAAAAAAAAAAAAAAAAAAAAAAAAAAAAAAAAAAAAAAAAAAAAAAAAAAAAAAAAAAAAAPBohR0AAXbPpmUAAAAASUVORK5CYII=\"/></td></tr></table>"
      ],
      "text/plain": [
       "<IPython.core.display.HTML object>"
      ]
     },
     "metadata": {},
     "output_type": "display_data"
    }
   ],
   "source": [
    "slide_data = mujoco.MjData(slide_model)\n",
    "slide_renderer = mujoco.Renderer(slide_model)\n",
    "media.show_image(slide_renderer.render())\n",
    "\n",
    "mobile_slide_data = mujoco.MjData(mobile_slide_model)\n",
    "mobile_slide_renderer = mujoco.Renderer(mobile_slide_model)\n",
    "media.show_image(mobile_slide_renderer.render())"
   ]
  },
  {
   "cell_type": "code",
   "execution_count": 21,
   "metadata": {},
   "outputs": [
    {
     "data": {
      "text/html": [
       "<table class=\"show_images\" style=\"border-spacing:0px;\"><tr><td style=\"padding:1px;\"><img width=\"320\" height=\"240\" style=\"image-rendering:auto; object-fit:cover;\" src=\"data:image/png;base64,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\"/></td></tr></table>"
      ],
      "text/plain": [
       "<IPython.core.display.HTML object>"
      ]
     },
     "metadata": {},
     "output_type": "display_data"
    },
    {
     "data": {
      "text/html": [
       "<table class=\"show_images\" style=\"border-spacing:0px;\"><tr><td style=\"padding:1px;\"><img width=\"320\" height=\"240\" style=\"image-rendering:auto; object-fit:cover;\" src=\"data:image/png;base64,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\"/></td></tr></table>"
      ],
      "text/plain": [
       "<IPython.core.display.HTML object>"
      ]
     },
     "metadata": {},
     "output_type": "display_data"
    }
   ],
   "source": [
    "mujoco.mj_forward(slide_model, slide_data)\n",
    "slide_renderer.update_scene(slide_data)\n",
    "media.show_image(slide_renderer.render())\n",
    "\n",
    "mujoco.mj_forward(mobile_slide_model, mobile_slide_data)\n",
    "mobile_slide_renderer.update_scene(mobile_slide_data)\n",
    "media.show_image(mobile_slide_renderer.render())"
   ]
  },
  {
   "cell_type": "code",
   "execution_count": 23,
   "metadata": {},
   "outputs": [
    {
     "data": {
      "text/html": [
       "<table class=\"show_images\" style=\"border-spacing:0px;\"><tr><td style=\"padding:1px;\"><img width=\"320\" height=\"240\" style=\"image-rendering:auto; object-fit:cover;\" src=\"data:image/png;base64,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\"/></td></tr></table>"
      ],
      "text/plain": [
       "<IPython.core.display.HTML object>"
      ]
     },
     "metadata": {},
     "output_type": "display_data"
    }
   ],
   "source": [
    "# change the location of the mobile slide\n",
    "mobile_slide_data.qpos[0] = 0.5\n",
    "mobile_slide_data.qpos[1] = 0.5\n",
    "mobile_slide_data.qpos[2] = 0.5\n",
    "mujoco.mj_forward(mobile_slide_model, mobile_slide_data)\n",
    "mobile_slide_renderer.update_scene(mobile_slide_data)\n",
    "media.show_image(mobile_slide_renderer.render())\n"
   ]
  },
  {
   "cell_type": "code",
   "execution_count": null,
   "metadata": {},
   "outputs": [],
   "source": []
  }
 ],
 "metadata": {
  "kernelspec": {
   "display_name": "rl_framework",
   "language": "python",
   "name": "python3"
  },
  "language_info": {
   "codemirror_mode": {
    "name": "ipython",
    "version": 3
   },
   "file_extension": ".py",
   "mimetype": "text/x-python",
   "name": "python",
   "nbconvert_exporter": "python",
   "pygments_lexer": "ipython3",
   "version": "3.11.9"
  }
 },
 "nbformat": 4,
 "nbformat_minor": 2
}
